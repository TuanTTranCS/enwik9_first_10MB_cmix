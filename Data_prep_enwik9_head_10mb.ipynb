{
 "cells": [
  {
   "cell_type": "markdown",
   "metadata": {},
   "source": [
    "## Data preparation - Retrieve the first 10 MB of enwik9\n",
    "\n",
    "This Notebook will download the file '[***enwik9.zip***](http://mattmahoney.net/dc/enwik9.zip)' file to current directory (if the file does not exist) and unzip it, then read the first 10 MB of the 1GB file to write into the file '***enwik.head_10MB***'"
   ]
  },
  {
   "cell_type": "code",
   "execution_count": 1,
   "metadata": {},
   "outputs": [],
   "source": [
    "#Required libraries\n",
    "from zipfile import ZipFile      # for handling zip files\n",
    "import os                        # for os.path.exists\n",
    "import filecmp                   # for comparing file contents\n",
    "import errno                     # for throwing errors\n",
    "import urllib                    # for downloading remote files "
   ]
  },
  {
   "cell_type": "code",
   "execution_count": 2,
   "metadata": {},
   "outputs": [],
   "source": [
    "# Global parameters\n",
    "SOURCE_URL = 'http://mattmahoney.net/dc/enwik9.zip'  # Source url to download 'enwik9.zip' file\n",
    "DICTIONARY_URL = 'https://github.com/byronknoll/cmix/raw/master/dictionary/english.dic'\n",
    "dict_file = 'english.dic'\n",
    "local_zip_file = 'enwik9.zip'                        # Local 'enwik9.zip' file name\n",
    "enwik9_file = 'enwik9'                               # Local 'enwik9' file after unzip\n",
    "enwik9_head_file = 'enwik9.head'                     # File name of the first N bytes output of enwik9\n",
    "BYTES_TO_READ = 10 * 1024 * 1024                     # Size of 10 MB to read from enwik9"
   ]
  },
  {
   "cell_type": "code",
   "execution_count": 6,
   "metadata": {},
   "outputs": [],
   "source": [
    "# Helper functions\n",
    "def download(remote_url: str, local_file: str):\n",
    "    \"\"\"\n",
    "    Download from remote_url to local_file, unless local_file already exists.  \n",
    "    \"\"\"\n",
    "    if not os.path.exists(local_file):\n",
    "        print(\"Downloading %s...\" % local_file)\n",
    "        filename, headers = urllib.request.urlretrieve(remote_url, local_file)\n",
    "        print('Done!')\n",
    "    else:\n",
    "        print(f'File \\'{local_file}\\' already existed.')\n",
    "    return\n",
    "\n",
    "def unzip(zip_file: str):\n",
    "    \"\"\"\n",
    "    Unzip (extract) all files from zip_file, overwring all existing files\n",
    "    \"\"\"\n",
    "    print(f'Start unzip file \\'{zip_file}\\'...')\n",
    "    with ZipFile(zip_file, 'r') as zip: \n",
    "        # printing all the contents of the zip file \n",
    "        zip.printdir() \n",
    "\n",
    "        # extracting all the files \n",
    "        print('Extracting all the files now...') \n",
    "        zip.extractall() \n",
    "        print('Done!') \n",
    "\n",
    "def split_first_n_bytes(file_name: str, n: int, output_file:str):\n",
    "    \"\"\"\n",
    "    Get the first n bytes from file_name and output to output_file (overwriting any existing file)\n",
    "    \"\"\"\n",
    "    converted_size = convert_bytes_display(n)\n",
    "    print(f'Start spliting the first {n} byte(s) ({converted_size}) of \\'{file_name}\\' into \\'{output_file}\\'...')\n",
    "    with open(file_name, 'rb') as fr:\n",
    "        first_n = fr.read(n)\n",
    "        with open(output_file, 'wb') as fw:\n",
    "            fw.write(first_n)\n",
    "    fr.close()\n",
    "    fw.close()\n",
    "    print('Done splitting file!')\n",
    "\n",
    "def convert_bytes_display(bytes_input:int):\n",
    "    \"\"\"\n",
    "    Convert the bytes number into the appropriate format to display in KB or MB \n",
    "    \"\"\"\n",
    "    return '%dMB'%(bytes_input/1024 / 1024) if bytes_input%(1024*1024) == 0 else \\\n",
    "        '%.2fMB'%(bytes_input/1024 / 1024) if 1024*1024 <= bytes_input else \\\n",
    "        '%dKB'%(bytes_input/1024) if bytes_input%1024 == 0 else'%.2fKB'%(bytes_input/1024)\n",
    "\n",
    "def data_prep(bytes_to_read:int):\n",
    "    \"\"\"\n",
    "    This function will download the 'enwik9.zip' file if it does not exist in current directory, \n",
    "    then extract it to file 'enwik9' (1GB) and split the first bytes_to_read (bytes) for training the compression \n",
    "    algorithm as well as benchmarking.\n",
    "    Output file will have format: '{enwik9_head_file}_xx.xxXB', where xx(.xx) is the number of MBs or KBs converted \n",
    "    from bytes_to_read and XB is MB or KB depending on its value is in which range  \n",
    "    \"\"\"\n",
    "    if not os.path.exists(enwik9_file):\n",
    "        if not os.path.exists(local_zip_file):\n",
    "            download(SOURCE_URL, local_zip_file)\n",
    "            if os.path.exists(local_zip_file):\n",
    "                print('Download completed!')\n",
    "        unzip(local_zip_file)\n",
    "    else:\n",
    "        print(f'Original file \\'{enwik9_file}\\' already existed!')\n",
    "\n",
    "    if os.path.exists(enwik9_file):\n",
    "        converted_size = convert_bytes_display(bytes_to_read)\n",
    "        \n",
    "        output_file = f'{enwik9_head_file}_{converted_size}'\n",
    "        split_first_n_bytes(file_name=enwik9_file, n=bytes_to_read, output_file=output_file)\n",
    "        output_file_size = convert_bytes_display(os.path.getsize(output_file))\n",
    "        print(f'File \\'{output_file}\\' ({output_file_size}) is ready to be processed in next step!')\n",
    "        "
   ]
  },
  {
   "cell_type": "markdown",
   "metadata": {},
   "source": [
    "Call *data_prep()* function to generate the first 10MB of enwik9 (original file ***enwik9.zip*** is from the website http://mattmahoney.net above)"
   ]
  },
  {
   "cell_type": "code",
   "execution_count": 5,
   "metadata": {},
   "outputs": [
    {
     "name": "stdout",
     "output_type": "stream",
     "text": [
      "Downloading enwik9.zip...\n",
      "Done!\n",
      "Download completed!\n",
      "Start unzip file 'enwik9.zip'...\n",
      "File Name                                             Modified             Size\n",
      "enwik9                                         2011-06-01 11:29:40   1000000000\n",
      "Extracting all the files now...\n",
      "Done!\n",
      "Start spliting the first 10485760 byte(s) (10MB) of 'enwik9' into 'enwik9.head_10MB'...\n",
      "Done splitting file!\n",
      "File 'enwik9.head_10MB' (10MB) is ready to be processed in next step!\n"
     ]
    }
   ],
   "source": [
    "data_prep(BYTES_TO_READ)"
   ]
  }
 ],
 "metadata": {
  "kernelspec": {
   "display_name": "prml",
   "language": "python",
   "name": "prml"
  },
  "language_info": {
   "codemirror_mode": {
    "name": "ipython",
    "version": 3
   },
   "file_extension": ".py",
   "mimetype": "text/x-python",
   "name": "python",
   "nbconvert_exporter": "python",
   "pygments_lexer": "ipython3",
   "version": "3.8.5"
  }
 },
 "nbformat": 4,
 "nbformat_minor": 4
}
